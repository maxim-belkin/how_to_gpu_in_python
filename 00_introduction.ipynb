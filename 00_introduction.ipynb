{
 "cells": [
  {
   "cell_type": "markdown",
   "id": "associate-battlefield",
   "metadata": {},
   "source": [
    "## GPGPU computing\n",
    "\n",
    "<!-- GPGPU: programmable hardware + smarter software -->\n",
    "<!-- CUDA for NVIDIA GPUs and OpenCL for everyone -->\n",
    "\n",
    "Graphics Processing Units (or GPUs) are computer chips created for processing massive amounts of graphical data, a task that is typical for computer games and graphics workloads. Because GPU chips are built for a very specific purpose, for a long time processing elements of GPUs were capable of performing computations related to graphics rendering only. NVIDIA was the first to design a chip with \"programmable\" processing elements. Although the operations that these early programmable components were able to perform were limited in scope, over time their capabilities grew, and today they closely approach the ones of CPUs (Central Processing Units).\n",
    "\n",
    "Ability of GPU hardware to perform programmable calculations was an important step towards general purpose GPU computing, yet not sufficient: developers still had to perform tedious data transformations in order to use GPU processing elements. And again, NVIDIA was the first to solve this problem by introducing CUDA &mdash; a solution that enabled developers to program NVIDIA GPUs practically the same way one programs a CPU. Soon after, a vendor-agnostic language for programming GPUs was created &mdash; OpenCL. It allowed GPU code to be developed for devices by AMD, Arm, Intel, and other vendors.\n",
    "\n",
    "These hardware and software advances transformed GPUs from purpose-built devices into powerful, general-purpose, fully programmable co-processors that are ideally suited for massively parallel computing problems."
   ]
  },
  {
   "cell_type": "markdown",
   "id": "f35fcd79",
   "metadata": {},
   "source": [
    "## The end of CPUs?\n",
    "\n",
    "So, are GPUs better than CPUs? To answer this question, we have to consider the following:\n",
    "\n",
    "1. **GPUs are \"external\" devices attached to the computer _via_ a PCIe bus and interfacing with CPU _via_ an API.**\n",
    "   <br>This means that data has to be sent to and from a GPU device. Sending data takes time, so there is a latency associated with these transfers.\n",
    "   <br>This also means that there is no such thing as a pure GPU programming -- it's always CPU + GPU programming -- but this is a topic for another discussion.\n",
    "\n",
    "2. **GPU processing units are slower than those in CPUs.**\n",
    "    <br>Modern CPU can operate at 5 GHz, whereas processing elements of a GPU operate at 2 GHz or below, which is more than 2 times slower.\n",
    "\n",
    "3. **GPUs have a lot more processing units than CPUs.**\n",
    "    <br>Unlike CPUs that typically have less than a hundred of computing cores, GPUs have several hundreds of processing elements:\n",
    "    <img src=\"./figures/GPU-transistor.png\" width=500 alt=\"Typical composition of processing elements on CPU and GPU\" />\n",
    "\n",
    "One can reasonably conclude, that an application will run faster on a CPU only when it is:\n",
    "\n",
    "- algorithmically single-threaded\n",
    "- not compute or data intensive.\n",
    "\n",
    "Otherwise, it can and will benefit from the power of general-purpose GPU computing."
   ]
  }
 ],
 "metadata": {
  "kernelspec": {
   "display_name": "Python 3",
   "language": "python",
   "name": "python3"
  },
  "language_info": {
   "codemirror_mode": {
    "name": "ipython",
    "version": 3
   },
   "file_extension": ".py",
   "mimetype": "text/x-python",
   "name": "python",
   "nbconvert_exporter": "python",
   "pygments_lexer": "ipython3",
   "version": "3.8.11"
  }
 },
 "nbformat": 4,
 "nbformat_minor": 5
}
